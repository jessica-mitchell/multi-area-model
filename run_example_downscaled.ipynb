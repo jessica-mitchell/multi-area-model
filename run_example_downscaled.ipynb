{
 "cells": [
  {
   "cell_type": "code",
   "execution_count": null,
   "metadata": {
    "collapsed": false,
    "jupyter": {
     "outputs_hidden": false
    }
   },
   "outputs": [],
   "source": [
    "%matplotlib inline"
   ]
  },
  {
   "cell_type": "markdown",
   "metadata": {},
   "source": [
    "\n",
    "# Down-scaled model\n",
    "\n",
    "Neurons and indegrees are both scaled down to 10 %.\n",
    "Can usually be simulated on a local machine.\n",
    "\n",
    "Warning: This will not yield reasonable dynamical results from the\n",
    "network and is only meant to demonstrate the simulation workflow.\n"
   ]
  },
  {
   "cell_type": "code",
   "execution_count": null,
   "metadata": {
    "collapsed": false,
    "jupyter": {
     "outputs_hidden": false
    }
   },
   "outputs": [],
   "source": [
    "import numpy as np\n",
    "import os\n",
    "\n",
    "from multiarea_model import MultiAreaModel\n",
    "from config import base_path\n",
    "\n",
    "d = {}\n",
    "conn_params = {'replace_non_simulated_areas': 'het_poisson_stat',\n",
    "               'g': -11.,\n",
    "               'K_stable': 'K_stable.npy',\n",
    "               'fac_nu_ext_TH': 1.2,\n",
    "               'fac_nu_ext_5E': 1.125,\n",
    "               'fac_nu_ext_6E': 1.41666667,\n",
    "               'av_indegree_V1': 3950.}\n",
    "input_params = {'rate_ext': 10.}\n",
    "neuron_params = {'V0_mean': -150.,\n",
    "                 'V0_sd': 50.}\n",
    "network_params = {'N_scaling': 0.01,\n",
    "                  'K_scaling': 0.01,\n",
    "                  'fullscale_rates': os.path.join(base_path, 'tests/fullscale_rates.json'),\n",
    "                  'input_params': input_params,\n",
    "                  'connection_params': conn_params,\n",
    "                  'neuron_params': neuron_params}\n",
    "\n",
    "sim_params = {'t_sim': 2000.,\n",
    "              'num_processes': 1,\n",
    "              'local_num_threads': 1,\n",
    "              'recording_dict': {'record_vm': False}}\n",
    "\n",
    "theory_params = {'dt': 0.1}\n",
    "\n",
    "M = MultiAreaModel(network_params, simulation=True,\n",
    "                   sim_spec=sim_params,\n",
    "                   theory=True,\n",
    "                   theory_spec=theory_params)\n",
    "p, r = M.theory.integrate_siegert()\n",
    "print(\"Mean-field theory predicts an average \"\n",
    "      \"rate of {0:.3f} spikes/s across all populations.\".format(np.mean(r[:, -1])))\n",
    "M.simulation.simulate()"
   ]
  }
 ],
 "metadata": {
  "kernelspec": {
   "display_name": "Python 3 (ipykernel)",
   "language": "python",
   "name": "python3"
  },
  "language_info": {
   "codemirror_mode": {
    "name": "ipython",
    "version": 3
   },
   "file_extension": ".py",
   "mimetype": "text/x-python",
   "name": "python",
   "nbconvert_exporter": "python",
   "pygments_lexer": "ipython3",
   "version": "3.9.13"
  }
 },
 "nbformat": 4,
 "nbformat_minor": 4
}
